{
  "cells": [
    {
      "cell_type": "markdown",
      "metadata": {
        "id": "bd235fb0"
      },
      "source": [
        "# Quickend"
      ],
      "id": "bd235fb0"
    },
    {
      "cell_type": "markdown",
      "metadata": {
        "id": "ad57b0b7"
      },
      "source": [
        "## 0) Initial Setup\n",
        "\n",
        "We start with loading the required packages."
      ],
      "id": "ad57b0b7"
    },
    {
      "cell_type": "code",
      "execution_count": null,
      "metadata": {
        "id": "2454f20e"
      },
      "outputs": [],
      "source": [
        "# !pip install tensorflow\n",
        "import numpy as np\n",
        "import pandas as pd\n",
        "import json\n",
        "import os\n",
        "from tqdm import tqdm\n",
        "\n",
        "from sklearn.preprocessing import LabelBinarizer\n",
        "from sklearn.model_selection import train_test_split\n",
        "from sklearn.metrics import accuracy_score, confusion_matrix\n",
        "\n",
        "from PIL import Image, ImageFilter,ImageEnhance\n",
        "\n",
        "import tensorflow as tf\n",
        "import tensorflow.keras as K\n",
        "from tensorflow.keras.preprocessing import image\n",
        "from tensorflow.keras.applications.resnet50 import ResNet50\n",
        "from tensorflow.keras.applications.vgg16 import VGG16\n",
        "from tensorflow.keras.applications.vgg19 import VGG19\n",
        "\n",
        "\n",
        "import tensorflow_datasets as tfds\n",
        "from tensorflow.keras.utils import image_dataset_from_directory"
      ],
      "id": "2454f20e"
    },
    {
      "cell_type": "markdown",
      "metadata": {
        "id": "536f1fd6"
      },
      "source": [
        "## 1) Set paths to data & models"
      ],
      "id": "536f1fd6"
    },
    {
      "cell_type": "code",
      "execution_count": null,
      "metadata": {
        "colab": {
          "base_uri": "https://localhost:8080/"
        },
        "id": "tAWk43HhQ7E1",
        "outputId": "b8c5b358-a26f-4bb1-d92b-2dbfb6dfcaee"
      },
      "outputs": [
        {
          "output_type": "stream",
          "name": "stdout",
          "text": [
            "Drive already mounted at /content/gdrive; to attempt to forcibly remount, call drive.mount(\"/content/gdrive\", force_remount=True).\n"
          ]
        }
      ],
      "source": [
        "from google.colab import drive\n",
        "\n",
        "drive.mount('/content/gdrive')"
      ],
      "id": "tAWk43HhQ7E1"
    },
    {
      "cell_type": "code",
      "execution_count": null,
      "metadata": {
        "id": "0c742f6c"
      },
      "outputs": [],
      "source": [
        "# load data\n",
        "base = '.'\n",
        "LOADPATH = base + '/data/'\n",
        "SAVEPATH = base + '/models/'\n",
        "\n",
        "# Converting labels to np array\n",
        "cat = [ 'skin_tone','age','gender']\n",
        "lbs = [LabelBinarizer() for i in range(len(cat))]\n",
        "length = width = 224"
      ],
      "id": "0c742f6c"
    },
    {
      "cell_type": "markdown",
      "source": [
        "## 2) Load Models"
      ],
      "metadata": {
        "id": "Gk1f5OIwjxG0"
      },
      "id": "Gk1f5OIwjxG0"
    },
    {
      "cell_type": "code",
      "execution_count": null,
      "metadata": {
        "id": "TudRFDt2p-Qn"
      },
      "outputs": [],
      "source": [
        "# function to initialize a VGG19\n",
        "def initializeModel():\n",
        "    v19_model = VGG19(include_top=False, weights='imagenet', input_tensor=K.Input(shape=[length,width,3]))\n",
        "\n",
        "    for layer in v19_model.layers:\n",
        "        layer.trainable = False\n",
        "    model = K.models.Sequential()\n",
        "    model.add(v19_model)\n",
        "    return model\n",
        "\n",
        "vgg_model = initializeModel()"
      ],
      "id": "TudRFDt2p-Qn"
    },
    {
      "cell_type": "code",
      "execution_count": null,
      "metadata": {
        "id": "9OpOICwkq_CI"
      },
      "outputs": [],
      "source": [
        "class PredictionModel():\n",
        "    def __init__(self, vgg_model):\n",
        "        self.vgg_model = vgg_model\n",
        "\n",
        "        self.cat = ['skin_tone','age','gender']\n",
        "        self.loss = ['categorical_crossentropy' for i in range(len(cat))]\n",
        "        self.metrics = [['accuracy'] for i in range(len(cat))]\n",
        "        self.models = []\n",
        "\n",
        "        self.models.append(tf.keras.models.load_model('./models/model_skin_tone5.h5'))\n",
        "        self.models.append(tf.keras.models.load_model('./models/model_age5.h5'))\n",
        "        self.models.append(tf.keras.models.load_model('./models/model_gender5.h5'))\n",
        "            \n",
        "    def predict(self, newX, prepped=False):\n",
        "        if not prepped:\n",
        "          newX = self.vgg_model.predict(newX)\n",
        "        predictions = [model.predict(newX) for model in self.models]\n",
        "        return predictions"
      ],
      "id": "9OpOICwkq_CI"
    },
    {
      "cell_type": "code",
      "source": [
        "mymodel = PredictionModel(vgg_model)"
      ],
      "metadata": {
        "id": "TA3iUZJVm7W-"
      },
      "id": "TA3iUZJVm7W-",
      "execution_count": null,
      "outputs": []
    },
    {
      "cell_type": "markdown",
      "metadata": {
        "id": "TV06k7hE6Lrx"
      },
      "source": [
        "## 3) predict test data"
      ],
      "id": "TV06k7hE6Lrx"
    },
    {
      "cell_type": "code",
      "execution_count": null,
      "metadata": {
        "colab": {
          "base_uri": "https://localhost:8080/"
        },
        "id": "sk0DvoT36Oj7",
        "outputId": "d90e2e79-b6c5-4fe7-989f-9b319a14a967"
      },
      "outputs": [
        {
          "output_type": "stream",
          "name": "stdout",
          "text": [
            "Converting test labels to np array\n",
            "Loading test images\n",
            "Converting test images to np array\n"
          ]
        }
      ],
      "source": [
        "# load labels data\n",
        "TESTPATH = base + '/data/test/'\n",
        "df_test = pd.read_csv(base+'/test_labels.csv')\n",
        "\n",
        "# Convert labels to np array\n",
        "print(\"Converting test labels to np array\")\n",
        "testY = []\n",
        "for i in range(len(cat)):\n",
        "    lab = lbs[i].fit_transform(df_test[cat[i]])\n",
        "    if lab.shape[1]==1:\n",
        "        testY.append(np.hstack((1-lab,lab)))\n",
        "    else:\n",
        "        testY.append(lab)\n",
        "        \n",
        "# load and convert images into np array\n",
        "print(\"Loading test images\")\n",
        "nt = df_test.shape[0]\n",
        "all_imgs = [image.load_img(TESTPATH+df_test.iloc[i]['name'], target_size=(length,width)) for i in range(nt)]\n",
        "\n",
        "print(\"Converting test images to np array\")\n",
        "testX = np.empty([nt, length, width, 3], dtype=float)\n",
        "for i in range(nt):\n",
        "    testX[i,:] = image.img_to_array(all_imgs[i])\n",
        "testX = K.applications.vgg19.preprocess_input(testX)"
      ],
      "id": "sk0DvoT36Oj7"
    },
    {
      "cell_type": "code",
      "source": [
        "pred = mymodel.predict(testX)\n",
        "nt = df_test.shape[0]\n",
        "\n",
        "predY = [[np.argmax(pred[i][j,:]) for j in range(nt)] for i in range(len(cat))]\n",
        "predLabels = [[lbs[i].classes_[j] for j in predY[i]] for i in range(len(cat))]"
      ],
      "metadata": {
        "colab": {
          "base_uri": "https://localhost:8080/"
        },
        "id": "--okA0TpiCWf",
        "outputId": "699b44e6-bb3b-4954-dd81-562dfd54f81d"
      },
      "id": "--okA0TpiCWf",
      "execution_count": null,
      "outputs": [
        {
          "output_type": "stream",
          "name": "stdout",
          "text": [
            "94/94 [==============================] - 136s 1s/step\n",
            "94/94 [==============================] - 1s 6ms/step\n",
            "94/94 [==============================] - 1s 6ms/step\n",
            "94/94 [==============================] - 1s 6ms/step\n"
          ]
        }
      ]
    },
    {
      "cell_type": "markdown",
      "metadata": {
        "id": "f20b0fcd"
      },
      "source": [
        "# 4) Score Model\n",
        "\n",
        "Based on the above metric, we now calculate the score to evaluate your submission. This score will be displayed in your public leaderboard."
      ],
      "id": "f20b0fcd"
    },
    {
      "cell_type": "code",
      "source": [
        "# calculate accuracy\n",
        "acc = {}\n",
        "for i in range(3):\n",
        "    icat = cat[i]\n",
        "    iacc = accuracy_score(df_test[cat[i]], predLabels[i])\n",
        "    acc[icat] = iacc\n",
        "\n",
        "# calculate disparity\n",
        "def disparity_score(ytrue, ypred):\n",
        "    cm = confusion_matrix(ytrue,ypred)\n",
        "    cm = cm.astype('float') / cm.sum(axis=1)[:, np.newaxis]\n",
        "    all_acc = list(cm.diagonal())\n",
        "    return max(all_acc) - min(all_acc)\n",
        "\n",
        "disp = {}\n",
        "for i in range(3):\n",
        "    icat = cat[i]\n",
        "    idisp = disparity_score(df_test[cat[i]], predLabels[i])\n",
        "    disp[icat] = idisp\n",
        "disp\n",
        "\n",
        "results = {'accuracy': acc, 'disparity': disp}\n",
        "results"
      ],
      "metadata": {
        "colab": {
          "base_uri": "https://localhost:8080/"
        },
        "id": "Z53DPysT2_-T",
        "outputId": "4e7fc4db-e137-4611-c443-9f9539dc3afe"
      },
      "id": "Z53DPysT2_-T",
      "execution_count": null,
      "outputs": [
        {
          "output_type": "execute_result",
          "data": {
            "text/plain": [
              "{'accuracy': {'skin_tone': 0.5106666666666667,\n",
              "  'age': 0.7256666666666667,\n",
              "  'gender': 0.8943333333333333},\n",
              " 'disparity': {'skin_tone': 0.6515679442508711,\n",
              "  'age': 0.23909145088551076,\n",
              "  'gender': 0.06804756425009595}}"
            ]
          },
          "metadata": {},
          "execution_count": 158
        }
      ]
    },
    {
      "cell_type": "code",
      "source": [
        "def getScore(results):\n",
        "    acc = results['accuracy']\n",
        "    disp = results['disparity']\n",
        "    ad = 2*acc['gender']*(1-disp['gender']) + 4*acc['age']*(1-disp['age']**2) + 10*acc['skin_tone']*(1-disp['skin_tone']**5)\n",
        "    return ad\n",
        "    \n",
        "submission = {\n",
        "    'score': getScore(results),\n",
        "    'metrics': results\n",
        "}\n",
        "submission"
      ],
      "metadata": {
        "colab": {
          "base_uri": "https://localhost:8080/"
        },
        "id": "koW1LK1LhDhB",
        "outputId": "788fc6c3-27dc-498a-e47c-28d8a2a01cb8"
      },
      "id": "koW1LK1LhDhB",
      "execution_count": null,
      "outputs": [
        {
          "output_type": "execute_result",
          "data": {
            "text/plain": [
              "{'score': 8.910652680775119,\n",
              " 'metrics': {'accuracy': {'skin_tone': 0.5106666666666667,\n",
              "   'age': 0.7256666666666667,\n",
              "   'gender': 0.8943333333333333},\n",
              "  'disparity': {'skin_tone': 0.6515679442508711,\n",
              "   'age': 0.23909145088551076,\n",
              "   'gender': 0.06804756425009595}}}"
            ]
          },
          "metadata": {},
          "execution_count": 159
        }
      ]
    },
    {
      "cell_type": "code",
      "execution_count": null,
      "metadata": {
        "id": "xR7S2z4-fc0k"
      },
      "outputs": [],
      "source": [
        "with open(\"/content/gdrive/MyDrive/Richard/Stressed/BiasBounty/rilu979_score.json\", \"w\") as f:\n",
        "    json.dump(submission, f, indent=4)"
      ],
      "id": "xR7S2z4-fc0k"
    }
  ],
  "metadata": {
    "accelerator": "TPU",
    "colab": {
      "machine_shape": "hm",
      "provenance": []
    },
    "gpuClass": "standard",
    "kernelspec": {
      "display_name": "conda_amazonei_tensorflow2_p36",
      "language": "python",
      "name": "conda_amazonei_tensorflow2_p36"
    },
    "language_info": {
      "codemirror_mode": {
        "name": "ipython",
        "version": 3
      },
      "file_extension": ".py",
      "mimetype": "text/x-python",
      "name": "python",
      "nbconvert_exporter": "python",
      "pygments_lexer": "ipython3",
      "version": "3.6.13"
    }
  },
  "nbformat": 4,
  "nbformat_minor": 5
}